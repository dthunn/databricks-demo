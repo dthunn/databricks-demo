{
 "cells": [
  {
   "cell_type": "code",
   "execution_count": 0,
   "metadata": {
    "application/vnd.databricks.v1+cell": {
     "cellMetadata": {},
     "inputWidgets": {},
     "nuid": "7f6f1f6f-4ee8-4681-b41e-e4e128bbd1ad",
     "showTitle": false,
     "tableResultSettingsMap": {},
     "title": ""
    }
   },
   "outputs": [],
   "source": [
    "import dlt\n",
    "import pyspark.sql.functions as F"
   ]
  },
  {
   "cell_type": "code",
   "execution_count": 0,
   "metadata": {
    "application/vnd.databricks.v1+cell": {
     "cellMetadata": {},
     "inputWidgets": {},
     "nuid": "03391e82-adcc-4df1-b393-738dc06bd609",
     "showTitle": false,
     "tableResultSettingsMap": {},
     "title": ""
    }
   },
   "outputs": [],
   "source": [
    "@dlt.table(\n",
    "    name = \"bronze_addresses\",\n",
    "    table_properties = {'quality' : 'bronze'},\n",
    "    comment = \"Raw addresses data ingested from the source system\"\n",
    ")\n",
    "def create_bronze_addresses():\n",
    "    return (\n",
    "        spark.readStream\n",
    "            .format(\"cloudFiles\")\n",
    "            .option(\"cloudFiles.format\", \"csv\")\n",
    "            .option(\"cloudFiles.inferColumnTypes\", \"true\")\n",
    "            .load(\"/Volumes/circuitbox/landing/operational_data/addresses/\")\n",
    "            .select(\n",
    "                \"*\",\n",
    "                F.col(\"_metadata.file_path\").alias(\"input_file_path\"),\n",
    "                F.current_timestamp().alias(\"ingest_timestamp\")\n",
    "            )\n",
    "    )"
   ]
  },
  {
   "cell_type": "code",
   "execution_count": 0,
   "metadata": {
    "application/vnd.databricks.v1+cell": {
     "cellMetadata": {},
     "inputWidgets": {},
     "nuid": "d734433d-0000-4398-a891-114ff642cd78",
     "showTitle": false,
     "tableResultSettingsMap": {},
     "title": ""
    }
   },
   "outputs": [],
   "source": [
    "@dlt.table(\n",
    "    name = \"silver_addresses_clean\",\n",
    "    comment = \"Cleaned addresses data\",\n",
    "    table_properties = {'quality' : 'silver'}\n",
    ")\n",
    "@dlt.expect_or_fail(\"valid_customer_id\", \"customer_id IS NOT NULL\")\n",
    "@dlt.expect_or_drop(\"valid_address\", \"address_line_1 IS NOT NULL\")\n",
    "@dlt.expect(\"valid_postcode\", \"LENGTH(postcode) = 5\")\n",
    "def create_silver_addresses_clean():\n",
    "    return (\n",
    "        spark.readStream.table(\"LIVE.bronze_addresses\")\n",
    "            .select(\n",
    "                \"customer_id\",\n",
    "                \"address_line_1\",\n",
    "                \"city\",\n",
    "                \"state\",\n",
    "                \"postcode\",\n",
    "                F.col(\"created_date\").cast(\"date\")\n",
    "            )\n",
    "    )"
   ]
  }
 ],
 "metadata": {
  "application/vnd.databricks.v1+notebook": {
   "computePreferences": null,
   "dashboards": [],
   "environmentMetadata": {
    "base_environment": "",
    "environment_version": "2"
   },
   "inputWidgetPreferences": null,
   "language": "python",
   "notebookMetadata": {
    "pythonIndentUnit": 4
   },
   "notebookName": "Process Addresses Data",
   "widgets": {}
  },
  "language_info": {
   "name": "python"
  }
 },
 "nbformat": 4,
 "nbformat_minor": 0
}
