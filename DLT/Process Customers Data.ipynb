{
 "cells": [
  {
   "cell_type": "code",
   "execution_count": 0,
   "metadata": {
    "application/vnd.databricks.v1+cell": {
     "cellMetadata": {
      "byteLimit": 2048000,
      "rowLimit": 10000
     },
     "inputWidgets": {},
     "nuid": "6c6ab312-8fac-49b1-99c0-e430fc86201c",
     "showTitle": false,
     "tableResultSettingsMap": {},
     "title": ""
    }
   },
   "outputs": [],
   "source": [
    "CREATE OR REFRESH STREAMING TABLE bronze_customers\n",
    "COMMENT 'Raw customers data ingested from source system operational data'\n",
    "TBLPROPERTIES ('quality' = 'bronze')\n",
    "AS SELECT *, _metadata.file_path as input_file_path, CURRENT_TIMESTAMP as ingestion_timestamp\n",
    "FROM cloud_files (\n",
    "  '/Volumes/circuitbox/landing/operational_data/customers/',\n",
    "  'json',\n",
    "  map('cloudFiles.inferColumnTypes', 'true')\n",
    ");"
   ]
  },
  {
   "cell_type": "code",
   "execution_count": 0,
   "metadata": {
    "application/vnd.databricks.v1+cell": {
     "cellMetadata": {
      "byteLimit": 2048000,
      "rowLimit": 10000
     },
     "inputWidgets": {},
     "nuid": "3021e4b3-95e1-4865-8b91-8c3461e4c5a8",
     "showTitle": false,
     "tableResultSettingsMap": {},
     "title": ""
    }
   },
   "outputs": [],
   "source": [
    "CREATE OR REFRESH STREAMING TABLE silver_customers_clean(\n",
    "  CONSTRAINT valid_customer_id EXPECT (customer_id IS NOT NULL) ON VIOLATION FAIL UPDATE,\n",
    "  CONSTRAINT valid_customer_name EXPECT (customer_name IS NOT NULL) ON VIOLATION DROP ROW,\n",
    "  CONSTRAINT valid_telephone EXPECT (LENGTH(telephone) >= 10),\n",
    "  CONSTRAINT valid_email EXPECT (email IS NOT NULL),\n",
    "  CONSTRAINT valid_date_of_birth EXPECT(date_of_birth >= '1920-01-01') \n",
    ")\n",
    "COMMENT 'Cleaned customers data'\n",
    "TBLPROPERTIES ('quality' = 'silver')\n",
    "AS\n",
    "SELECT customer_id,\n",
    "       customer_name,\n",
    "       CAST(date_of_birth AS DATE) AS date_of_birth,\n",
    "       telephone,\n",
    "       email,\n",
    "       CAST(created_date AS DATE) AS created_date\n",
    "  FROM STREAM(LIVE.bronze_customers)"
   ]
  },
  {
   "cell_type": "code",
   "execution_count": 0,
   "metadata": {
    "application/vnd.databricks.v1+cell": {
     "cellMetadata": {},
     "inputWidgets": {},
     "nuid": "0e30d2b5-b6db-450c-8182-f0db976628ef",
     "showTitle": false,
     "tableResultSettingsMap": {},
     "title": ""
    }
   },
   "outputs": [],
   "source": [
    "CREATE OR REFRESH STREAMING TABLE silver_customers\n",
    "COMMENT 'SCD Type 1 customers data'\n",
    "TBLPROPERTIES ('quality' = 'silver');"
   ]
  },
  {
   "cell_type": "code",
   "execution_count": 0,
   "metadata": {
    "application/vnd.databricks.v1+cell": {
     "cellMetadata": {},
     "inputWidgets": {},
     "nuid": "653868b9-4a00-4eeb-8f30-044d1b9e8fe3",
     "showTitle": false,
     "tableResultSettingsMap": {},
     "title": ""
    }
   },
   "outputs": [],
   "source": [
    "APPLY CHANGES INTO LIVE.silver_customers\n",
    "FROM STREAM(LIVE.silver_customers_clean)\n",
    "KEYS (customer_id)\n",
    "SEQUENCE BY created_date\n",
    "STORED AS SCD TYPE 1; -- Optional. Type 1 is the default value"
   ]
  }
 ],
 "metadata": {
  "application/vnd.databricks.v1+notebook": {
   "computePreferences": null,
   "dashboards": [],
   "environmentMetadata": {
    "base_environment": "",
    "environment_version": "2"
   },
   "inputWidgetPreferences": null,
   "language": "sql",
   "notebookMetadata": {
    "pythonIndentUnit": 4
   },
   "notebookName": "Process Customers Data",
   "widgets": {}
  },
  "language_info": {
   "name": "sql"
  }
 },
 "nbformat": 4,
 "nbformat_minor": 0
}
