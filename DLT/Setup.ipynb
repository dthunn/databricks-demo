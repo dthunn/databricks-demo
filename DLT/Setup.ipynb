{
 "cells": [
  {
   "cell_type": "code",
   "execution_count": 0,
   "metadata": {
    "application/vnd.databricks.v1+cell": {
     "cellMetadata": {
      "byteLimit": 2048000,
      "rowLimit": 10000
     },
     "inputWidgets": {},
     "nuid": "c01fba9f-3e37-41fb-a4fd-eb6d867cfc16",
     "showTitle": false,
     "tableResultSettingsMap": {},
     "title": ""
    }
   },
   "outputs": [],
   "source": [
    "-- CREATE EXTERNAL LOCATION IF NOT EXISTS circuitbox\n",
    "-- URL 'abfss://circuitbox@dthunndbacourse.dfs.core.windows.net/'\n",
    "-- WITH (STORAGE CREDENTIAL databricks_demo)\n",
    "-- COMMENT 'External location for the circuitbox data lakehouse'"
   ]
  },
  {
   "cell_type": "code",
   "execution_count": 0,
   "metadata": {
    "application/vnd.databricks.v1+cell": {
     "cellMetadata": {
      "byteLimit": 2048000,
      "rowLimit": 10000
     },
     "inputWidgets": {},
     "nuid": "3979d70c-231c-454a-8b7d-996f1004a533",
     "showTitle": false,
     "tableResultSettingsMap": {},
     "title": ""
    }
   },
   "outputs": [],
   "source": [
    "-- %fs ls 'abfss://circuitbox@dthunndbacourse.dfs.core.windows.net/'"
   ]
  },
  {
   "cell_type": "code",
   "execution_count": 0,
   "metadata": {
    "application/vnd.databricks.v1+cell": {
     "cellMetadata": {
      "byteLimit": 2048000,
      "rowLimit": 10000
     },
     "inputWidgets": {},
     "nuid": "9292e869-6736-4e8b-88fe-d8d94e65206c",
     "showTitle": false,
     "tableResultSettingsMap": {},
     "title": ""
    }
   },
   "outputs": [],
   "source": [
    "-- CREATE CATALOG IF NOT EXISTS circuitbox\n",
    "-- MANAGED LOCATION 'abfss://circuitbox@dthunndbacourse.dfs.core.windows.net/'"
   ]
  },
  {
   "cell_type": "code",
   "execution_count": 0,
   "metadata": {
    "application/vnd.databricks.v1+cell": {
     "cellMetadata": {
      "byteLimit": 2048000,
      "rowLimit": 10000
     },
     "inputWidgets": {},
     "nuid": "7d22aabf-e2f0-4d55-bc7e-26e7fbe1e07f",
     "showTitle": false,
     "tableResultSettingsMap": {},
     "title": ""
    }
   },
   "outputs": [],
   "source": [
    "SHOW CATALOGS;"
   ]
  },
  {
   "cell_type": "code",
   "execution_count": 0,
   "metadata": {
    "application/vnd.databricks.v1+cell": {
     "cellMetadata": {
      "byteLimit": 2048000,
      "rowLimit": 10000
     },
     "inputWidgets": {},
     "nuid": "7ef49a88-a0b4-40d0-abb7-8399c5aa37d4",
     "showTitle": false,
     "tableResultSettingsMap": {},
     "title": ""
    }
   },
   "outputs": [],
   "source": [
    "-- USE CATALOG circuitbox;\n",
    "\n",
    "-- CREATE SCHEMA IF NOT EXISTS landing\n",
    "-- MANAGED LOCATION 'abfss://circuitbox@dthunndbacourse.dfs.core.windows.net/landing';\n",
    "\n",
    "-- CREATE SCHEMA IF NOT EXISTS lakehouse\n",
    "-- MANAGED LOCATION 'abfss://circuitbox@dthunndbacourse.dfs.core.windows.net/lakehouse';"
   ]
  },
  {
   "cell_type": "code",
   "execution_count": 0,
   "metadata": {
    "application/vnd.databricks.v1+cell": {
     "cellMetadata": {
      "byteLimit": 2048000,
      "rowLimit": 10000
     },
     "inputWidgets": {},
     "nuid": "eb73e964-f5e2-4abe-bc08-2ace0859b0c7",
     "showTitle": false,
     "tableResultSettingsMap": {},
     "title": ""
    }
   },
   "outputs": [],
   "source": [
    "SHOW SCHEMAS;"
   ]
  },
  {
   "cell_type": "code",
   "execution_count": 0,
   "metadata": {
    "application/vnd.databricks.v1+cell": {
     "cellMetadata": {
      "byteLimit": 2048000,
      "rowLimit": 10000
     },
     "inputWidgets": {},
     "nuid": "f98e9d38-e322-4b72-8d4a-9794a9b3c655",
     "showTitle": false,
     "tableResultSettingsMap": {},
     "title": ""
    }
   },
   "outputs": [],
   "source": [
    "-- USE CATALOG circuitbox;\n",
    "-- USE SCHEMA landing;\n",
    "\n",
    "-- CREATE EXTERNAL VOLUME IF NOT EXISTS operational_data\n",
    "-- LOCATION 'abfss://circuitbox@dthunndbacourse.dfs.core.windows.net/landing/operational_data'"
   ]
  },
  {
   "cell_type": "code",
   "execution_count": 0,
   "metadata": {
    "application/vnd.databricks.v1+cell": {
     "cellMetadata": {
      "byteLimit": 2048000,
      "rowLimit": 10000
     },
     "inputWidgets": {},
     "nuid": "3acb7bfa-7a28-4410-a62e-dd7a82fcb7b4",
     "showTitle": false,
     "tableResultSettingsMap": {},
     "title": ""
    }
   },
   "outputs": [],
   "source": [
    "-- %fs ls '/Volumes/circuitbox/landing/operational_data'"
   ]
  },
  {
   "cell_type": "code",
   "execution_count": 0,
   "metadata": {
    "application/vnd.databricks.v1+cell": {
     "cellMetadata": {
      "byteLimit": 2048000,
      "rowLimit": 10000
     },
     "inputWidgets": {},
     "nuid": "67671589-bd1e-4bea-a5c5-59253d595918",
     "showTitle": false,
     "tableResultSettingsMap": {},
     "title": ""
    }
   },
   "outputs": [],
   "source": [
    "CREATE OR REFRESH STREAMING TABLE bronze_customers\n",
    "COMMENT 'Raw customers data ingested from source system operational data'\n",
    "TBLPROPERTIES ('quality' = 'bronze')\n",
    "AS SELECT *, _metadata.file_path as input_file_path, CURRENT_TIMESTAMP as ingestion_timestamp\n",
    "FROM cloud_files (\n",
    "  '/Volumes/circuitbox/landing/operational_data/customers/',\n",
    "  'json',\n",
    "  map('cloudFiles.inferColumnTypes', 'true')\n",
    ");"
   ]
  },
  {
   "cell_type": "code",
   "execution_count": 0,
   "metadata": {
    "application/vnd.databricks.v1+cell": {
     "cellMetadata": {},
     "inputWidgets": {},
     "nuid": "87a29fb2-551f-492b-8b64-04c0b4996490",
     "showTitle": false,
     "tableResultSettingsMap": {},
     "title": ""
    }
   },
   "outputs": [],
   "source": []
  }
 ],
 "metadata": {
  "application/vnd.databricks.v1+notebook": {
   "computePreferences": null,
   "dashboards": [],
   "environmentMetadata": {
    "base_environment": "",
    "environment_version": "2"
   },
   "inputWidgetPreferences": null,
   "language": "sql",
   "notebookMetadata": {
    "mostRecentlyExecutedCommandWithImplicitDF": {
     "commandId": 5280704640305469,
     "dataframes": [
      "_sqldf"
     ]
    },
    "pythonIndentUnit": 4
   },
   "notebookName": "Setup",
   "widgets": {}
  },
  "language_info": {
   "name": "sql"
  }
 },
 "nbformat": 4,
 "nbformat_minor": 0
}
