{
 "cells": [
  {
   "cell_type": "code",
   "execution_count": 0,
   "metadata": {
    "application/vnd.databricks.v1+cell": {
     "cellMetadata": {
      "byteLimit": 2048000,
      "rowLimit": 10000
     },
     "inputWidgets": {},
     "nuid": "1a6fe806-e43b-469e-8ffa-12faacd3b6fb",
     "showTitle": false,
     "tableResultSettingsMap": {},
     "title": ""
    }
   },
   "outputs": [],
   "source": [
    "SELECT * FROM gizmobox.bronze.v_customers where customer_id IS NOT NULL\n",
    "ORDER BY customer_id"
   ]
  },
  {
   "cell_type": "code",
   "execution_count": 0,
   "metadata": {
    "application/vnd.databricks.v1+cell": {
     "cellMetadata": {
      "byteLimit": 2048000,
      "rowLimit": 10000
     },
     "inputWidgets": {},
     "nuid": "e81c9d8e-4e24-46f6-8db6-a0e7be26d2e6",
     "showTitle": false,
     "tableResultSettingsMap": {},
     "title": ""
    }
   },
   "outputs": [],
   "source": [
    "SELECT DISTINCT * FROM gizmobox.bronze.v_customers where customer_id IS NOT NULL\n",
    "ORDER BY customer_id"
   ]
  },
  {
   "cell_type": "code",
   "execution_count": 0,
   "metadata": {
    "application/vnd.databricks.v1+cell": {
     "cellMetadata": {
      "byteLimit": 2048000,
      "rowLimit": 10000
     },
     "inputWidgets": {},
     "nuid": "3fd59bbb-35ef-4b60-ac40-f1c7388de601",
     "showTitle": false,
     "tableResultSettingsMap": {},
     "title": ""
    }
   },
   "outputs": [],
   "source": [
    "SELECT customer_id, MAX(created_timestamp)\n",
    "FROM gizmobox.bronze.v_customers \n",
    "WHERE customer_id IS NOT NULL \n",
    "GROUP BY customer_id\n",
    "ORDER BY customer_id"
   ]
  },
  {
   "cell_type": "code",
   "execution_count": 0,
   "metadata": {
    "application/vnd.databricks.v1+cell": {
     "cellMetadata": {
      "byteLimit": 2048000,
      "rowLimit": 10000
     },
     "inputWidgets": {},
     "nuid": "84b57ff6-2f85-4c55-b0ae-a04697a4f42c",
     "showTitle": false,
     "tableResultSettingsMap": {},
     "title": ""
    }
   },
   "outputs": [],
   "source": [
    "CREATE OR REPLACE TEMPORARY VIEW v_customers_distinct AS\n",
    "SELECT DISTINCT * FROM gizmobox.bronze.v_customers \n",
    "WHERE customer_id IS NOT NULL ORDER BY customer_id"
   ]
  },
  {
   "cell_type": "code",
   "execution_count": 0,
   "metadata": {
    "application/vnd.databricks.v1+cell": {
     "cellMetadata": {
      "byteLimit": 2048000,
      "rowLimit": 10000
     },
     "inputWidgets": {},
     "nuid": "5c1993a0-6606-4a2f-865a-86b631340f84",
     "showTitle": false,
     "tableResultSettingsMap": {},
     "title": ""
    }
   },
   "outputs": [],
   "source": [
    "SELECT customer_id, MAX(created_timestamp) as max_created_timestamp\n",
    "FROM v_customers_distinct GROUP BY customer_id"
   ]
  },
  {
   "cell_type": "code",
   "execution_count": 0,
   "metadata": {
    "application/vnd.databricks.v1+cell": {
     "cellMetadata": {
      "byteLimit": 2048000,
      "rowLimit": 10000
     },
     "inputWidgets": {},
     "nuid": "dbc390a2-266f-445e-ab5b-4b909c1fffd0",
     "showTitle": false,
     "tableResultSettingsMap": {},
     "title": ""
    }
   },
   "outputs": [],
   "source": [
    "WITH cte_max AS (\n",
    "  SELECT customer_id, MAX(created_timestamp) as max_created_timestamp\n",
    "  FROM v_customers_distinct GROUP BY customer_id\n",
    ")\n",
    "SELECT CAST(t.created_timestamp AS TIMESTAMP) as created_timestamp,\n",
    "t.customer_id, t.customer_name, CAST(t.date_of_birth AS DATE) AS date_of_birth,\n",
    "t.email, CAST(t.member_since AS DATE) as member_since, t.telephone\n",
    "FROM v_customers_distinct t\n",
    "JOIN cte_max m ON t.customer_id = m.customer_id AND t.created_timestamp = m.max_created_timestamp"
   ]
  },
  {
   "cell_type": "code",
   "execution_count": 0,
   "metadata": {
    "application/vnd.databricks.v1+cell": {
     "cellMetadata": {
      "byteLimit": 2048000,
      "rowLimit": 10000
     },
     "inputWidgets": {},
     "nuid": "85267c37-7945-483b-91d8-4b4a9ecfd1f6",
     "showTitle": false,
     "tableResultSettingsMap": {},
     "title": ""
    }
   },
   "outputs": [],
   "source": [
    "CREATE TABLE gizmobox.silver.customers\n",
    "AS\n",
    "WITH cte_max AS (\n",
    "  SELECT customer_id, MAX(created_timestamp) as max_created_timestamp\n",
    "  FROM v_customers_distinct GROUP BY customer_id\n",
    ")\n",
    "SELECT CAST(t.created_timestamp AS TIMESTAMP) as created_timestamp,\n",
    "t.customer_id, t.customer_name, CAST(t.date_of_birth AS DATE) AS date_of_birth,\n",
    "t.email, CAST(t.member_since AS DATE) as member_since, t.telephone\n",
    "FROM v_customers_distinct t\n",
    "JOIN cte_max m ON t.customer_id = m.customer_id AND t.created_timestamp = m.max_created_timestamp"
   ]
  },
  {
   "cell_type": "code",
   "execution_count": 0,
   "metadata": {
    "application/vnd.databricks.v1+cell": {
     "cellMetadata": {
      "byteLimit": 2048000,
      "rowLimit": 10000
     },
     "inputWidgets": {},
     "nuid": "64d879c6-9635-4bf8-b663-0b19dacfa3fb",
     "showTitle": false,
     "tableResultSettingsMap": {},
     "title": ""
    }
   },
   "outputs": [],
   "source": [
    "SELECT * FROM gizmobox.silver.customers"
   ]
  },
  {
   "cell_type": "code",
   "execution_count": 0,
   "metadata": {
    "application/vnd.databricks.v1+cell": {
     "cellMetadata": {
      "byteLimit": 2048000,
      "rowLimit": 10000
     },
     "inputWidgets": {},
     "nuid": "8b3c88e7-a5cc-4cdc-929c-996feba64983",
     "showTitle": false,
     "tableResultSettingsMap": {},
     "title": ""
    }
   },
   "outputs": [],
   "source": [
    "SELECT payment_id, payment_timestamp, payment_status, payment_method FROM gizmobox.bronze.payments"
   ]
  },
  {
   "cell_type": "code",
   "execution_count": 0,
   "metadata": {
    "application/vnd.databricks.v1+cell": {
     "cellMetadata": {
      "byteLimit": 2048000,
      "rowLimit": 10000
     },
     "inputWidgets": {},
     "nuid": "36919bf7-890e-4e98-905d-b0c362a118a7",
     "showTitle": false,
     "tableResultSettingsMap": {},
     "title": ""
    }
   },
   "outputs": [],
   "source": [
    "SELECT \n",
    "  payment_id, \n",
    "  CAST(date_format(payment_timestamp, 'yyyy-MM-dd') AS DATE) as payment_date, \n",
    "  date_format(payment_timestamp, 'HH:mm:ss') as payment_time, \n",
    "  payment_status, \n",
    "  payment_method \n",
    "FROM gizmobox.bronze.payments"
   ]
  },
  {
   "cell_type": "code",
   "execution_count": 0,
   "metadata": {
    "application/vnd.databricks.v1+cell": {
     "cellMetadata": {
      "byteLimit": 2048000,
      "rowLimit": 10000
     },
     "inputWidgets": {},
     "nuid": "52d39b2e-9aae-469d-ac98-b48405a19a21",
     "showTitle": false,
     "tableResultSettingsMap": {},
     "title": ""
    }
   },
   "outputs": [],
   "source": [
    "SELECT \n",
    "  payment_id, \n",
    "  CAST(date_format(payment_timestamp, 'yyyy-MM-dd') AS DATE) as payment_date, \n",
    "  date_format(payment_timestamp, 'HH:mm:ss') as payment_time, \n",
    "  CASE payment_status \n",
    "    WHEN 1 THEN 'Success' \n",
    "    WHEN 2 THEN 'Pending'\n",
    "    WHEN 3 THEN 'Cancelled'\n",
    "    WHEN 4 THEN 'FAILED'\n",
    "    END AS payment_status, \n",
    "  payment_method \n",
    "FROM gizmobox.bronze.payments"
   ]
  },
  {
   "cell_type": "code",
   "execution_count": 0,
   "metadata": {
    "application/vnd.databricks.v1+cell": {
     "cellMetadata": {
      "byteLimit": 2048000,
      "rowLimit": 10000
     },
     "inputWidgets": {},
     "nuid": "447e3deb-b5ba-4db2-b98d-76041147f655",
     "showTitle": false,
     "tableResultSettingsMap": {},
     "title": ""
    }
   },
   "outputs": [],
   "source": [
    "CREATE TABLE gizmobox.silver.payments\n",
    "AS\n",
    "SELECT \n",
    "  payment_id, \n",
    "  CAST(date_format(payment_timestamp, 'yyyy-MM-dd') AS DATE) as payment_date, \n",
    "  date_format(payment_timestamp, 'HH:mm:ss') as payment_time, \n",
    "  CASE payment_status \n",
    "    WHEN 1 THEN 'Success' \n",
    "    WHEN 2 THEN 'Pending'\n",
    "    WHEN 3 THEN 'Cancelled'\n",
    "    WHEN 4 THEN 'FAILED'\n",
    "    END AS payment_status, \n",
    "  payment_method \n",
    "FROM gizmobox.bronze.payments"
   ]
  },
  {
   "cell_type": "code",
   "execution_count": 0,
   "metadata": {
    "application/vnd.databricks.v1+cell": {
     "cellMetadata": {
      "byteLimit": 2048000,
      "rowLimit": 10000
     },
     "inputWidgets": {},
     "nuid": "ef4e3ec0-0f08-4b46-aa33-35f6f018b5e3",
     "showTitle": false,
     "tableResultSettingsMap": {},
     "title": ""
    }
   },
   "outputs": [],
   "source": [
    "SELECT * FROM gizmobox.silver.payments"
   ]
  },
  {
   "cell_type": "code",
   "execution_count": 0,
   "metadata": {
    "application/vnd.databricks.v1+cell": {
     "cellMetadata": {
      "byteLimit": 2048000,
      "rowLimit": 10000
     },
     "inputWidgets": {},
     "nuid": "07a089b9-ecc0-4d8e-a4d1-d8d67ef6605b",
     "showTitle": false,
     "tableResultSettingsMap": {},
     "title": ""
    }
   },
   "outputs": [],
   "source": [
    "SELECT \n",
    "  refund_id, \n",
    "  payment_id,\n",
    "  refund_amount,\n",
    "  refund_reason\n",
    "FROM hive_metastore.bronze.refunds"
   ]
  },
  {
   "cell_type": "code",
   "execution_count": 0,
   "metadata": {
    "application/vnd.databricks.v1+cell": {
     "cellMetadata": {
      "byteLimit": 2048000,
      "rowLimit": 10000
     },
     "inputWidgets": {},
     "nuid": "48bf7bc4-a915-4470-870a-071351e8bef2",
     "showTitle": false,
     "tableResultSettingsMap": {},
     "title": ""
    }
   },
   "outputs": [],
   "source": [
    "SELECT \n",
    "  refund_id, \n",
    "  payment_id,\n",
    "  refund_amount,\n",
    "  split(refund_reason, ':')[0] AS refund_reason,\n",
    "  split(refund_reason, ':')[1] AS refund_source\n",
    "FROM hive_metastore.bronze.refunds"
   ]
  },
  {
   "cell_type": "code",
   "execution_count": 0,
   "metadata": {
    "application/vnd.databricks.v1+cell": {
     "cellMetadata": {
      "byteLimit": 2048000,
      "rowLimit": 10000
     },
     "inputWidgets": {},
     "nuid": "790cd95f-e1a9-48b0-b15b-be22d1aea36d",
     "showTitle": false,
     "tableResultSettingsMap": {},
     "title": ""
    }
   },
   "outputs": [],
   "source": [
    "SELECT \n",
    "  refund_id, \n",
    "  payment_id,\n",
    "  CAST(date_format(refund_timestamp, 'yyyy-MM-dd') AS DATE) AS refund_date,\n",
    "  date_format(refund_timestamp, 'HH:mm:ss') AS refund_time,\n",
    "  refund_amount,\n",
    "  split(refund_reason, ':')[0] AS refund_reason,\n",
    "  split(refund_reason, ':')[1] AS refund_source\n",
    "FROM hive_metastore.bronze.refunds"
   ]
  },
  {
   "cell_type": "code",
   "execution_count": 0,
   "metadata": {
    "application/vnd.databricks.v1+cell": {
     "cellMetadata": {
      "byteLimit": 2048000,
      "rowLimit": 10000
     },
     "inputWidgets": {},
     "nuid": "46960d4c-1c8b-4ed6-92e2-ae63565d4b65",
     "showTitle": false,
     "tableResultSettingsMap": {},
     "title": ""
    }
   },
   "outputs": [],
   "source": [
    "CREATE SCHEMA hive_metastore.silver"
   ]
  },
  {
   "cell_type": "code",
   "execution_count": 0,
   "metadata": {
    "application/vnd.databricks.v1+cell": {
     "cellMetadata": {
      "byteLimit": 2048000,
      "rowLimit": 10000
     },
     "inputWidgets": {},
     "nuid": "a3a69d9c-866e-4dca-9bc3-3767d67be842",
     "showTitle": false,
     "tableResultSettingsMap": {},
     "title": ""
    }
   },
   "outputs": [],
   "source": [
    "CREATE TABLE hive_metastore.silver.refunds AS\n",
    "SELECT \n",
    "  refund_id, \n",
    "  payment_id,\n",
    "  CAST(date_format(refund_timestamp, 'yyyy-MM-dd') AS DATE) AS refund_date,\n",
    "  date_format(refund_timestamp, 'HH:mm:ss') AS refund_time,\n",
    "  refund_amount,\n",
    "  split(refund_reason, ':')[0] AS refund_reason,\n",
    "  split(refund_reason, ':')[1] AS refund_source\n",
    "FROM hive_metastore.bronze.refunds"
   ]
  },
  {
   "cell_type": "code",
   "execution_count": 0,
   "metadata": {
    "application/vnd.databricks.v1+cell": {
     "cellMetadata": {
      "byteLimit": 2048000,
      "rowLimit": 10000
     },
     "inputWidgets": {},
     "nuid": "03502c76-e707-40b4-8469-505a2e72dde3",
     "showTitle": false,
     "tableResultSettingsMap": {},
     "title": ""
    }
   },
   "outputs": [],
   "source": [
    "SELECT * FROM hive_metastore.silver.refunds"
   ]
  },
  {
   "cell_type": "code",
   "execution_count": 0,
   "metadata": {
    "application/vnd.databricks.v1+cell": {
     "cellMetadata": {
      "byteLimit": 2048000,
      "rowLimit": 10000
     },
     "inputWidgets": {},
     "nuid": "cd3cd0da-d00a-40f2-a4f9-22e513805ed1",
     "showTitle": false,
     "tableResultSettingsMap": {},
     "title": ""
    }
   },
   "outputs": [],
   "source": [
    "DESC EXTENDED hive_metastore.silver.refunds"
   ]
  },
  {
   "cell_type": "code",
   "execution_count": 0,
   "metadata": {
    "application/vnd.databricks.v1+cell": {
     "cellMetadata": {
      "byteLimit": 2048000,
      "rowLimit": 10000
     },
     "inputWidgets": {},
     "nuid": "a78b166f-b4fe-429c-a21a-155fabb404c8",
     "showTitle": false,
     "tableResultSettingsMap": {},
     "title": ""
    }
   },
   "outputs": [],
   "source": [
    "SELECT * FROM gizmobox.bronze.v_memberships"
   ]
  },
  {
   "cell_type": "code",
   "execution_count": 0,
   "metadata": {
    "application/vnd.databricks.v1+cell": {
     "cellMetadata": {
      "byteLimit": 2048000,
      "rowLimit": 10000
     },
     "inputWidgets": {},
     "nuid": "d568b1fe-026f-4d69-8417-4e9e2a4ed0a5",
     "showTitle": false,
     "tableResultSettingsMap": {},
     "title": ""
    }
   },
   "outputs": [],
   "source": [
    "SELECT \n",
    "regexp_extract(path, '.*/([0-9]+)\\\\.png$', 1) AS customer_id,\n",
    "content as membership_card\n",
    "FROM gizmobox.bronze.v_memberships"
   ]
  },
  {
   "cell_type": "code",
   "execution_count": 0,
   "metadata": {
    "application/vnd.databricks.v1+cell": {
     "cellMetadata": {
      "byteLimit": 2048000,
      "rowLimit": 10000
     },
     "inputWidgets": {},
     "nuid": "b5323a8a-6aa6-4c56-b2d3-fa6d2af68e20",
     "showTitle": false,
     "tableResultSettingsMap": {},
     "title": ""
    }
   },
   "outputs": [],
   "source": [
    "CREATE TABLE gizmobox.silver.membership_cards AS\n",
    "SELECT \n",
    "regexp_extract(path, '.*/([0-9]+)\\\\.png$', 1) AS customer_id,\n",
    "content as membership_card\n",
    "FROM gizmobox.bronze.v_memberships"
   ]
  },
  {
   "cell_type": "code",
   "execution_count": 0,
   "metadata": {
    "application/vnd.databricks.v1+cell": {
     "cellMetadata": {
      "byteLimit": 2048000,
      "rowLimit": 10000
     },
     "inputWidgets": {},
     "nuid": "52f9d6b3-01d7-4d1e-826f-257d3eb90bb0",
     "showTitle": false,
     "tableResultSettingsMap": {},
     "title": ""
    }
   },
   "outputs": [],
   "source": [
    "SELECT * FROM gizmobox.silver.membership_cards"
   ]
  },
  {
   "cell_type": "code",
   "execution_count": 0,
   "metadata": {
    "application/vnd.databricks.v1+cell": {
     "cellMetadata": {},
     "inputWidgets": {},
     "nuid": "5f907f04-a4b7-41dc-8a91-65dbefa9f9df",
     "showTitle": false,
     "tableResultSettingsMap": {},
     "title": ""
    }
   },
   "outputs": [],
   "source": []
  }
 ],
 "metadata": {
  "application/vnd.databricks.v1+notebook": {
   "computePreferences": null,
   "dashboards": [],
   "environmentMetadata": {
    "base_environment": "",
    "environment_version": "2"
   },
   "inputWidgetPreferences": null,
   "language": "sql",
   "notebookMetadata": {
    "pythonIndentUnit": 4
   },
   "notebookName": "Transforming Data",
   "widgets": {}
  },
  "language_info": {
   "name": "sql"
  }
 },
 "nbformat": 4,
 "nbformat_minor": 0
}
