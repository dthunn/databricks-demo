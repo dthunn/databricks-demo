{
 "cells": [
  {
   "cell_type": "code",
   "execution_count": 0,
   "metadata": {
    "application/vnd.databricks.v1+cell": {
     "cellMetadata": {
      "byteLimit": 2048000,
      "rowLimit": 10000
     },
     "inputWidgets": {},
     "nuid": "1a6fe806-e43b-469e-8ffa-12faacd3b6fb",
     "showTitle": false,
     "tableResultSettingsMap": {},
     "title": ""
    }
   },
   "outputs": [],
   "source": [
    "SELECT * FROM gizmobox.bronze.v_customers where customer_id IS NOT NULL\n",
    "ORDER BY customer_id"
   ]
  },
  {
   "cell_type": "code",
   "execution_count": 0,
   "metadata": {
    "application/vnd.databricks.v1+cell": {
     "cellMetadata": {
      "byteLimit": 2048000,
      "rowLimit": 10000
     },
     "inputWidgets": {},
     "nuid": "e81c9d8e-4e24-46f6-8db6-a0e7be26d2e6",
     "showTitle": false,
     "tableResultSettingsMap": {},
     "title": ""
    }
   },
   "outputs": [],
   "source": [
    "SELECT DISTINCT * FROM gizmobox.bronze.v_customers where customer_id IS NOT NULL\n",
    "ORDER BY customer_id"
   ]
  },
  {
   "cell_type": "code",
   "execution_count": 0,
   "metadata": {
    "application/vnd.databricks.v1+cell": {
     "cellMetadata": {
      "byteLimit": 2048000,
      "rowLimit": 10000
     },
     "inputWidgets": {},
     "nuid": "3fd59bbb-35ef-4b60-ac40-f1c7388de601",
     "showTitle": false,
     "tableResultSettingsMap": {},
     "title": ""
    }
   },
   "outputs": [],
   "source": [
    "SELECT customer_id, MAX(created_timestamp)\n",
    "FROM gizmobox.bronze.v_customers \n",
    "WHERE customer_id IS NOT NULL \n",
    "GROUP BY customer_id\n",
    "ORDER BY customer_id"
   ]
  },
  {
   "cell_type": "code",
   "execution_count": 0,
   "metadata": {
    "application/vnd.databricks.v1+cell": {
     "cellMetadata": {
      "byteLimit": 2048000,
      "rowLimit": 10000
     },
     "inputWidgets": {},
     "nuid": "84b57ff6-2f85-4c55-b0ae-a04697a4f42c",
     "showTitle": false,
     "tableResultSettingsMap": {},
     "title": ""
    }
   },
   "outputs": [],
   "source": [
    "CREATE OR REPLACE TEMPORARY VIEW v_customers_distinct AS\n",
    "SELECT DISTINCT * FROM gizmobox.bronze.v_customers \n",
    "WHERE customer_id IS NOT NULL ORDER BY customer_id"
   ]
  },
  {
   "cell_type": "code",
   "execution_count": 0,
   "metadata": {
    "application/vnd.databricks.v1+cell": {
     "cellMetadata": {
      "byteLimit": 2048000,
      "rowLimit": 10000
     },
     "inputWidgets": {},
     "nuid": "5c1993a0-6606-4a2f-865a-86b631340f84",
     "showTitle": false,
     "tableResultSettingsMap": {},
     "title": ""
    }
   },
   "outputs": [],
   "source": [
    "SELECT customer_id, MAX(created_timestamp) as max_created_timestamp\n",
    "FROM v_customers_distinct GROUP BY customer_id"
   ]
  },
  {
   "cell_type": "code",
   "execution_count": 0,
   "metadata": {
    "application/vnd.databricks.v1+cell": {
     "cellMetadata": {
      "byteLimit": 2048000,
      "rowLimit": 10000
     },
     "inputWidgets": {},
     "nuid": "dbc390a2-266f-445e-ab5b-4b909c1fffd0",
     "showTitle": false,
     "tableResultSettingsMap": {},
     "title": ""
    }
   },
   "outputs": [],
   "source": [
    "WITH cte_max AS (\n",
    "  SELECT customer_id, MAX(created_timestamp) as max_created_timestamp\n",
    "  FROM v_customers_distinct GROUP BY customer_id\n",
    ")\n",
    "SELECT CAST(t.created_timestamp AS TIMESTAMP) as created_timestamp,\n",
    "t.customer_id, t.customer_name, CAST(t.date_of_birth AS DATE) AS date_of_birth,\n",
    "t.email, CAST(t.member_since AS DATE) as member_since, t.telephone\n",
    "FROM v_customers_distinct t\n",
    "JOIN cte_max m ON t.customer_id = m.customer_id AND t.created_timestamp = m.max_created_timestamp"
   ]
  },
  {
   "cell_type": "code",
   "execution_count": 0,
   "metadata": {
    "application/vnd.databricks.v1+cell": {
     "cellMetadata": {
      "byteLimit": 2048000,
      "rowLimit": 10000
     },
     "inputWidgets": {},
     "nuid": "85267c37-7945-483b-91d8-4b4a9ecfd1f6",
     "showTitle": false,
     "tableResultSettingsMap": {},
     "title": ""
    }
   },
   "outputs": [],
   "source": [
    "CREATE TABLE gizmobox.silver.customers\n",
    "AS\n",
    "WITH cte_max AS (\n",
    "  SELECT customer_id, MAX(created_timestamp) as max_created_timestamp\n",
    "  FROM v_customers_distinct GROUP BY customer_id\n",
    ")\n",
    "SELECT CAST(t.created_timestamp AS TIMESTAMP) as created_timestamp,\n",
    "t.customer_id, t.customer_name, CAST(t.date_of_birth AS DATE) AS date_of_birth,\n",
    "t.email, CAST(t.member_since AS DATE) as member_since, t.telephone\n",
    "FROM v_customers_distinct t\n",
    "JOIN cte_max m ON t.customer_id = m.customer_id AND t.created_timestamp = m.max_created_timestamp"
   ]
  },
  {
   "cell_type": "code",
   "execution_count": 0,
   "metadata": {
    "application/vnd.databricks.v1+cell": {
     "cellMetadata": {
      "byteLimit": 2048000,
      "rowLimit": 10000
     },
     "inputWidgets": {},
     "nuid": "64d879c6-9635-4bf8-b663-0b19dacfa3fb",
     "showTitle": false,
     "tableResultSettingsMap": {},
     "title": ""
    }
   },
   "outputs": [],
   "source": [
    "SELECT * FROM gizmobox.silver.customers"
   ]
  },
  {
   "cell_type": "code",
   "execution_count": 0,
   "metadata": {
    "application/vnd.databricks.v1+cell": {
     "cellMetadata": {
      "byteLimit": 2048000,
      "rowLimit": 10000
     },
     "inputWidgets": {},
     "nuid": "8b3c88e7-a5cc-4cdc-929c-996feba64983",
     "showTitle": false,
     "tableResultSettingsMap": {},
     "title": ""
    }
   },
   "outputs": [],
   "source": [
    "SELECT payment_id, payment_timestamp, payment_status, payment_method FROM gizmobox.bronze.payments"
   ]
  },
  {
   "cell_type": "code",
   "execution_count": 0,
   "metadata": {
    "application/vnd.databricks.v1+cell": {
     "cellMetadata": {
      "byteLimit": 2048000,
      "rowLimit": 10000
     },
     "inputWidgets": {},
     "nuid": "36919bf7-890e-4e98-905d-b0c362a118a7",
     "showTitle": false,
     "tableResultSettingsMap": {},
     "title": ""
    }
   },
   "outputs": [],
   "source": [
    "SELECT \n",
    "  payment_id, \n",
    "  CAST(date_format(payment_timestamp, 'yyyy-MM-dd') AS DATE) as payment_date, \n",
    "  date_format(payment_timestamp, 'HH:mm:ss') as payment_time, \n",
    "  payment_status, \n",
    "  payment_method \n",
    "FROM gizmobox.bronze.payments"
   ]
  },
  {
   "cell_type": "code",
   "execution_count": 0,
   "metadata": {
    "application/vnd.databricks.v1+cell": {
     "cellMetadata": {
      "byteLimit": 2048000,
      "rowLimit": 10000
     },
     "inputWidgets": {},
     "nuid": "52d39b2e-9aae-469d-ac98-b48405a19a21",
     "showTitle": false,
     "tableResultSettingsMap": {},
     "title": ""
    }
   },
   "outputs": [],
   "source": [
    "SELECT \n",
    "  payment_id, \n",
    "  CAST(date_format(payment_timestamp, 'yyyy-MM-dd') AS DATE) as payment_date, \n",
    "  date_format(payment_timestamp, 'HH:mm:ss') as payment_time, \n",
    "  CASE payment_status \n",
    "    WHEN 1 THEN 'Success' \n",
    "    WHEN 2 THEN 'Pending'\n",
    "    WHEN 3 THEN 'Cancelled'\n",
    "    WHEN 4 THEN 'FAILED'\n",
    "    END AS payment_status, \n",
    "  payment_method \n",
    "FROM gizmobox.bronze.payments"
   ]
  },
  {
   "cell_type": "code",
   "execution_count": 0,
   "metadata": {
    "application/vnd.databricks.v1+cell": {
     "cellMetadata": {
      "byteLimit": 2048000,
      "rowLimit": 10000
     },
     "inputWidgets": {},
     "nuid": "447e3deb-b5ba-4db2-b98d-76041147f655",
     "showTitle": false,
     "tableResultSettingsMap": {},
     "title": ""
    }
   },
   "outputs": [],
   "source": [
    "CREATE TABLE gizmobox.silver.payments\n",
    "AS\n",
    "SELECT \n",
    "  payment_id, \n",
    "  CAST(date_format(payment_timestamp, 'yyyy-MM-dd') AS DATE) as payment_date, \n",
    "  date_format(payment_timestamp, 'HH:mm:ss') as payment_time, \n",
    "  CASE payment_status \n",
    "    WHEN 1 THEN 'Success' \n",
    "    WHEN 2 THEN 'Pending'\n",
    "    WHEN 3 THEN 'Cancelled'\n",
    "    WHEN 4 THEN 'FAILED'\n",
    "    END AS payment_status, \n",
    "  payment_method \n",
    "FROM gizmobox.bronze.payments"
   ]
  },
  {
   "cell_type": "code",
   "execution_count": 0,
   "metadata": {
    "application/vnd.databricks.v1+cell": {
     "cellMetadata": {
      "byteLimit": 2048000,
      "rowLimit": 10000
     },
     "inputWidgets": {},
     "nuid": "ef4e3ec0-0f08-4b46-aa33-35f6f018b5e3",
     "showTitle": false,
     "tableResultSettingsMap": {},
     "title": ""
    }
   },
   "outputs": [],
   "source": [
    "SELECT * FROM gizmobox.silver.payments"
   ]
  },
  {
   "cell_type": "code",
   "execution_count": 0,
   "metadata": {
    "application/vnd.databricks.v1+cell": {
     "cellMetadata": {
      "byteLimit": 2048000,
      "rowLimit": 10000
     },
     "inputWidgets": {},
     "nuid": "07a089b9-ecc0-4d8e-a4d1-d8d67ef6605b",
     "showTitle": false,
     "tableResultSettingsMap": {},
     "title": ""
    }
   },
   "outputs": [],
   "source": [
    "SELECT \n",
    "  refund_id, \n",
    "  payment_id,\n",
    "  refund_amount,\n",
    "  refund_reason\n",
    "FROM hive_metastore.bronze.refunds"
   ]
  },
  {
   "cell_type": "code",
   "execution_count": 0,
   "metadata": {
    "application/vnd.databricks.v1+cell": {
     "cellMetadata": {
      "byteLimit": 2048000,
      "rowLimit": 10000
     },
     "inputWidgets": {},
     "nuid": "48bf7bc4-a915-4470-870a-071351e8bef2",
     "showTitle": false,
     "tableResultSettingsMap": {},
     "title": ""
    }
   },
   "outputs": [],
   "source": [
    "SELECT \n",
    "  refund_id, \n",
    "  payment_id,\n",
    "  refund_amount,\n",
    "  split(refund_reason, ':')[0] AS refund_reason,\n",
    "  split(refund_reason, ':')[1] AS refund_source\n",
    "FROM hive_metastore.bronze.refunds"
   ]
  },
  {
   "cell_type": "code",
   "execution_count": 0,
   "metadata": {
    "application/vnd.databricks.v1+cell": {
     "cellMetadata": {
      "byteLimit": 2048000,
      "rowLimit": 10000
     },
     "inputWidgets": {},
     "nuid": "790cd95f-e1a9-48b0-b15b-be22d1aea36d",
     "showTitle": false,
     "tableResultSettingsMap": {},
     "title": ""
    }
   },
   "outputs": [],
   "source": [
    "SELECT \n",
    "  refund_id, \n",
    "  payment_id,\n",
    "  CAST(date_format(refund_timestamp, 'yyyy-MM-dd') AS DATE) AS refund_date,\n",
    "  date_format(refund_timestamp, 'HH:mm:ss') AS refund_time,\n",
    "  refund_amount,\n",
    "  split(refund_reason, ':')[0] AS refund_reason,\n",
    "  split(refund_reason, ':')[1] AS refund_source\n",
    "FROM hive_metastore.bronze.refunds"
   ]
  },
  {
   "cell_type": "code",
   "execution_count": 0,
   "metadata": {
    "application/vnd.databricks.v1+cell": {
     "cellMetadata": {
      "byteLimit": 2048000,
      "rowLimit": 10000
     },
     "inputWidgets": {},
     "nuid": "46960d4c-1c8b-4ed6-92e2-ae63565d4b65",
     "showTitle": false,
     "tableResultSettingsMap": {},
     "title": ""
    }
   },
   "outputs": [],
   "source": [
    "CREATE SCHEMA hive_metastore.silver"
   ]
  },
  {
   "cell_type": "code",
   "execution_count": 0,
   "metadata": {
    "application/vnd.databricks.v1+cell": {
     "cellMetadata": {
      "byteLimit": 2048000,
      "rowLimit": 10000
     },
     "inputWidgets": {},
     "nuid": "a3a69d9c-866e-4dca-9bc3-3767d67be842",
     "showTitle": false,
     "tableResultSettingsMap": {},
     "title": ""
    }
   },
   "outputs": [],
   "source": [
    "CREATE TABLE hive_metastore.silver.refunds AS\n",
    "SELECT \n",
    "  refund_id, \n",
    "  payment_id,\n",
    "  CAST(date_format(refund_timestamp, 'yyyy-MM-dd') AS DATE) AS refund_date,\n",
    "  date_format(refund_timestamp, 'HH:mm:ss') AS refund_time,\n",
    "  refund_amount,\n",
    "  split(refund_reason, ':')[0] AS refund_reason,\n",
    "  split(refund_reason, ':')[1] AS refund_source\n",
    "FROM hive_metastore.bronze.refunds"
   ]
  },
  {
   "cell_type": "code",
   "execution_count": 0,
   "metadata": {
    "application/vnd.databricks.v1+cell": {
     "cellMetadata": {
      "byteLimit": 2048000,
      "rowLimit": 10000
     },
     "inputWidgets": {},
     "nuid": "03502c76-e707-40b4-8469-505a2e72dde3",
     "showTitle": false,
     "tableResultSettingsMap": {},
     "title": ""
    }
   },
   "outputs": [],
   "source": [
    "SELECT * FROM hive_metastore.silver.refunds"
   ]
  },
  {
   "cell_type": "code",
   "execution_count": 0,
   "metadata": {
    "application/vnd.databricks.v1+cell": {
     "cellMetadata": {
      "byteLimit": 2048000,
      "rowLimit": 10000
     },
     "inputWidgets": {},
     "nuid": "cd3cd0da-d00a-40f2-a4f9-22e513805ed1",
     "showTitle": false,
     "tableResultSettingsMap": {},
     "title": ""
    }
   },
   "outputs": [],
   "source": [
    "DESC EXTENDED hive_metastore.silver.refunds"
   ]
  },
  {
   "cell_type": "code",
   "execution_count": 0,
   "metadata": {
    "application/vnd.databricks.v1+cell": {
     "cellMetadata": {
      "byteLimit": 2048000,
      "rowLimit": 10000
     },
     "inputWidgets": {},
     "nuid": "a78b166f-b4fe-429c-a21a-155fabb404c8",
     "showTitle": false,
     "tableResultSettingsMap": {},
     "title": ""
    }
   },
   "outputs": [],
   "source": [
    "SELECT * FROM gizmobox.bronze.v_memberships"
   ]
  },
  {
   "cell_type": "code",
   "execution_count": 0,
   "metadata": {
    "application/vnd.databricks.v1+cell": {
     "cellMetadata": {
      "byteLimit": 2048000,
      "rowLimit": 10000
     },
     "inputWidgets": {},
     "nuid": "d568b1fe-026f-4d69-8417-4e9e2a4ed0a5",
     "showTitle": false,
     "tableResultSettingsMap": {},
     "title": ""
    }
   },
   "outputs": [],
   "source": [
    "SELECT \n",
    "regexp_extract(path, '.*/([0-9]+)\\\\.png$', 1) AS customer_id,\n",
    "content as membership_card\n",
    "FROM gizmobox.bronze.v_memberships"
   ]
  },
  {
   "cell_type": "code",
   "execution_count": 0,
   "metadata": {
    "application/vnd.databricks.v1+cell": {
     "cellMetadata": {
      "byteLimit": 2048000,
      "rowLimit": 10000
     },
     "inputWidgets": {},
     "nuid": "b5323a8a-6aa6-4c56-b2d3-fa6d2af68e20",
     "showTitle": false,
     "tableResultSettingsMap": {},
     "title": ""
    }
   },
   "outputs": [],
   "source": [
    "CREATE TABLE gizmobox.silver.membership_cards AS\n",
    "SELECT \n",
    "regexp_extract(path, '.*/([0-9]+)\\\\.png$', 1) AS customer_id,\n",
    "content as membership_card\n",
    "FROM gizmobox.bronze.v_memberships"
   ]
  },
  {
   "cell_type": "code",
   "execution_count": 0,
   "metadata": {
    "application/vnd.databricks.v1+cell": {
     "cellMetadata": {
      "byteLimit": 2048000,
      "rowLimit": 10000
     },
     "inputWidgets": {},
     "nuid": "52f9d6b3-01d7-4d1e-826f-257d3eb90bb0",
     "showTitle": false,
     "tableResultSettingsMap": {},
     "title": ""
    }
   },
   "outputs": [],
   "source": [
    "SELECT * FROM gizmobox.silver.membership_cards"
   ]
  },
  {
   "cell_type": "code",
   "execution_count": 0,
   "metadata": {
    "application/vnd.databricks.v1+cell": {
     "cellMetadata": {
      "byteLimit": 2048000,
      "rowLimit": 10000
     },
     "inputWidgets": {},
     "nuid": "5f907f04-a4b7-41dc-8a91-65dbefa9f9df",
     "showTitle": false,
     "tableResultSettingsMap": {},
     "title": ""
    }
   },
   "outputs": [],
   "source": [
    "SELECT \n",
    "  customer_id,\n",
    "  address_type,\n",
    "  address_line_1,\n",
    "  city,\n",
    "  state,\n",
    "  postcode\n",
    "FROM gizmobox.bronze.v_addresses"
   ]
  },
  {
   "cell_type": "code",
   "execution_count": 0,
   "metadata": {
    "application/vnd.databricks.v1+cell": {
     "cellMetadata": {
      "byteLimit": 2048000,
      "rowLimit": 10000
     },
     "inputWidgets": {},
     "nuid": "25498fa6-786a-49b9-826d-3dfc2113bb19",
     "showTitle": false,
     "tableResultSettingsMap": {},
     "title": ""
    }
   },
   "outputs": [],
   "source": [
    "SELECT *\n",
    "FROM (\n",
    "  SELECT \n",
    "  customer_id,\n",
    "  address_type,\n",
    "  address_line_1,\n",
    "  city,\n",
    "  state,\n",
    "  postcode\n",
    "FROM gizmobox.bronze.v_addresses)\n",
    "PIVOT (MAX(address_line_1) AS address_line_1,\n",
    "       MAX(city) AS city,\n",
    "       MAX(state) AS state,\n",
    "       MAX(postcode) AS postcode\n",
    "       FOR address_type IN ('shipping', 'billing')\n",
    ")"
   ]
  },
  {
   "cell_type": "code",
   "execution_count": 0,
   "metadata": {
    "application/vnd.databricks.v1+cell": {
     "cellMetadata": {
      "byteLimit": 2048000,
      "rowLimit": 10000
     },
     "inputWidgets": {},
     "nuid": "38fa2a6c-a5ee-4b0c-b03f-66741c718218",
     "showTitle": false,
     "tableResultSettingsMap": {},
     "title": ""
    }
   },
   "outputs": [],
   "source": [
    "CREATE TABLE gizmobox.silver.addresses AS\n",
    "SELECT *\n",
    "FROM (\n",
    "  SELECT \n",
    "  customer_id,\n",
    "  address_type,\n",
    "  address_line_1,\n",
    "  city,\n",
    "  state,\n",
    "  postcode\n",
    "FROM gizmobox.bronze.v_addresses)\n",
    "PIVOT (MAX(address_line_1) AS address_line_1,\n",
    "       MAX(city) AS city,\n",
    "       MAX(state) AS state,\n",
    "       MAX(postcode) AS postcode\n",
    "       FOR address_type IN ('shipping', 'billing')\n",
    ")"
   ]
  },
  {
   "cell_type": "code",
   "execution_count": 0,
   "metadata": {
    "application/vnd.databricks.v1+cell": {
     "cellMetadata": {
      "byteLimit": 2048000,
      "rowLimit": 10000
     },
     "inputWidgets": {},
     "nuid": "60289748-dda8-439e-a876-2a1ed11bf390",
     "showTitle": false,
     "tableResultSettingsMap": {},
     "title": ""
    }
   },
   "outputs": [],
   "source": [
    "SELECT * FROM gizmobox.silver.addresses"
   ]
  },
  {
   "cell_type": "code",
   "execution_count": 0,
   "metadata": {
    "application/vnd.databricks.v1+cell": {
     "cellMetadata": {
      "byteLimit": 2048000,
      "rowLimit": 10000
     },
     "inputWidgets": {},
     "nuid": "6cecf7f7-4c20-42ed-b85d-42cb59e85c84",
     "showTitle": false,
     "tableResultSettingsMap": {},
     "title": ""
    }
   },
   "outputs": [],
   "source": [
    "SELECT * \n",
    "FROM gizmobox.bronze.v_orders"
   ]
  },
  {
   "cell_type": "code",
   "execution_count": 0,
   "metadata": {
    "application/vnd.databricks.v1+cell": {
     "cellMetadata": {
      "byteLimit": 2048000,
      "rowLimit": 10000
     },
     "inputWidgets": {},
     "nuid": "4ee75163-f76d-4dba-a7b7-8f7ece45a738",
     "showTitle": false,
     "tableResultSettingsMap": {},
     "title": ""
    }
   },
   "outputs": [],
   "source": [
    "SELECT value:order_id AS order_id, value\n",
    "FROM gizmobox.bronze.v_orders"
   ]
  },
  {
   "cell_type": "code",
   "execution_count": 0,
   "metadata": {
    "application/vnd.databricks.v1+cell": {
     "cellMetadata": {
      "byteLimit": 2048000,
      "rowLimit": 10000
     },
     "inputWidgets": {},
     "nuid": "ac64bb49-db48-4a44-95a1-13f2cf3a6cdf",
     "showTitle": false,
     "tableResultSettingsMap": {},
     "title": ""
    }
   },
   "outputs": [],
   "source": [
    "SELECT \n",
    "  value:items[0] AS item_1, \n",
    "  value:items[1] AS item_2, value\n",
    "FROM gizmobox.bronze.v_orders"
   ]
  },
  {
   "cell_type": "code",
   "execution_count": 0,
   "metadata": {
    "application/vnd.databricks.v1+cell": {
     "cellMetadata": {
      "byteLimit": 2048000,
      "rowLimit": 10000
     },
     "inputWidgets": {},
     "nuid": "cbafba74-e0ad-45d7-9457-18347652deea",
     "showTitle": false,
     "tableResultSettingsMap": {},
     "title": ""
    }
   },
   "outputs": [],
   "source": [
    "SELECT \n",
    "  value:items[0].item_id AS item_1, \n",
    "  value:items[1] AS item_2, value\n",
    "FROM gizmobox.bronze.v_orders"
   ]
  },
  {
   "cell_type": "code",
   "execution_count": 0,
   "metadata": {
    "application/vnd.databricks.v1+cell": {
     "cellMetadata": {
      "byteLimit": 2048000,
      "rowLimit": 10000
     },
     "inputWidgets": {},
     "nuid": "d1a12510-f408-4185-aece-dcec8dce77fc",
     "showTitle": false,
     "tableResultSettingsMap": {},
     "title": ""
    }
   },
   "outputs": [],
   "source": [
    "SELECT \n",
    "  value:items[0].item_id::INTEGER AS item_1, \n",
    "  value:items[1] AS item_2, value\n",
    "FROM gizmobox.bronze.v_orders"
   ]
  },
  {
   "cell_type": "code",
   "execution_count": 0,
   "metadata": {
    "application/vnd.databricks.v1+cell": {
     "cellMetadata": {
      "byteLimit": 2048000,
      "rowLimit": 10000
     },
     "inputWidgets": {},
     "nuid": "4bd9c230-0cf1-4da4-aad9-e910612f308c",
     "showTitle": false,
     "tableResultSettingsMap": {},
     "title": ""
    }
   },
   "outputs": [],
   "source": [
    "CREATE OR REPLACE TEMP VIEW tv_orders_fixed AS\n",
    "SELECT \n",
    "  value,\n",
    "  regexp_replace(value, '\"order_date\": (\\\\d{4}-\\\\d{2}-\\\\d{2})', '\"order_date\": \"\\$1\"') AS fixed_value\n",
    "FROM gizmobox.bronze.v_orders"
   ]
  },
  {
   "cell_type": "code",
   "execution_count": 0,
   "metadata": {
    "application/vnd.databricks.v1+cell": {
     "cellMetadata": {
      "byteLimit": 2048000,
      "rowLimit": 10000
     },
     "inputWidgets": {},
     "nuid": "c51a609e-e118-4d3c-8f40-75948c8ca490",
     "showTitle": false,
     "tableResultSettingsMap": {},
     "title": ""
    }
   },
   "outputs": [],
   "source": [
    "SELECT fixed_value\n",
    "FROM tv_orders_fixed"
   ]
  },
  {
   "cell_type": "code",
   "execution_count": 0,
   "metadata": {
    "application/vnd.databricks.v1+cell": {
     "cellMetadata": {
      "byteLimit": 2048000,
      "rowLimit": 10000
     },
     "inputWidgets": {},
     "nuid": "a55b605b-079e-4d0a-892f-259683fba093",
     "showTitle": false,
     "tableResultSettingsMap": {},
     "title": ""
    }
   },
   "outputs": [],
   "source": [
    "SELECT schema_of_json(fixed_value) AS schema, fixed_value\n",
    "FROM tv_orders_fixed LIMIT 1;"
   ]
  },
  {
   "cell_type": "code",
   "execution_count": 0,
   "metadata": {
    "application/vnd.databricks.v1+cell": {
     "cellMetadata": {
      "byteLimit": 2048000,
      "rowLimit": 10000
     },
     "inputWidgets": {},
     "nuid": "da1400f1-ee52-4962-8a96-f7f7f5090aca",
     "showTitle": false,
     "tableResultSettingsMap": {},
     "title": ""
    }
   },
   "outputs": [],
   "source": [
    "SELECT from_json(fixed_value, 'STRUCT<customer_id: BIGINT, items: ARRAY<STRUCT<category: STRING, details: STRUCT<brand: STRING, color: STRING>, item_id: BIGINT, name: STRING, price: BIGINT, quantity: BIGINT>>, order_date: STRING, order_id: BIGINT, order_status: STRING, payment_method: STRING, total_amount: BIGINT, transaction_timestamp: STRING>') AS json_value, fixed_value\n",
    "FROM tv_orders_fixed LIMIT 1;"
   ]
  },
  {
   "cell_type": "code",
   "execution_count": 0,
   "metadata": {
    "application/vnd.databricks.v1+cell": {
     "cellMetadata": {
      "byteLimit": 2048000,
      "rowLimit": 10000
     },
     "inputWidgets": {},
     "nuid": "9d67bcfe-852c-4587-aeee-e75dc8b7d860",
     "showTitle": false,
     "tableResultSettingsMap": {},
     "title": ""
    }
   },
   "outputs": [],
   "source": [
    "DROP TABLE IF EXISTS gizmobox.silver.orders_json;\n",
    "CREATE TABLE IF NOT EXISTS gizmobox.silver.orders_json\n",
    "AS\n",
    "SELECT from_json(fixed_value, 'STRUCT<customer_id: BIGINT, items: ARRAY<STRUCT<category: STRING, details: STRUCT<brand: STRING, color: STRING>, item_id: BIGINT, name: STRING, price: BIGINT, quantity: BIGINT>>, order_date: STRING, order_id: BIGINT, order_status: STRING, payment_method: STRING, total_amount: BIGINT, transaction_timestamp: STRING>') AS json_value\n",
    "FROM tv_orders_fixed"
   ]
  },
  {
   "cell_type": "code",
   "execution_count": 0,
   "metadata": {
    "application/vnd.databricks.v1+cell": {
     "cellMetadata": {
      "byteLimit": 2048000,
      "rowLimit": 10000
     },
     "inputWidgets": {},
     "nuid": "f4fe2f78-7907-4f3c-82a5-ad886296035c",
     "showTitle": false,
     "tableResultSettingsMap": {},
     "title": ""
    }
   },
   "outputs": [],
   "source": [
    "SELECT * FROM gizmobox.silver.orders_json"
   ]
  },
  {
   "cell_type": "code",
   "execution_count": 0,
   "metadata": {
    "application/vnd.databricks.v1+cell": {
     "cellMetadata": {
      "byteLimit": 2048000,
      "rowLimit": 10000
     },
     "inputWidgets": {},
     "nuid": "7804f1f6-43aa-4394-9948-7a72a47e511b",
     "showTitle": false,
     "tableResultSettingsMap": {},
     "title": ""
    }
   },
   "outputs": [],
   "source": [
    "DESCRIBE EXTENDED gizmobox.silver.orders_json;"
   ]
  },
  {
   "cell_type": "code",
   "execution_count": 0,
   "metadata": {
    "application/vnd.databricks.v1+cell": {
     "cellMetadata": {
      "byteLimit": 2048000,
      "rowLimit": 10000
     },
     "inputWidgets": {},
     "nuid": "ce9afa7c-eabd-4bc7-9ad8-2f9b90cfbc32",
     "showTitle": false,
     "tableResultSettingsMap": {},
     "title": ""
    }
   },
   "outputs": [],
   "source": [
    "SELECT * FROM gizmobox.silver.orders_json"
   ]
  },
  {
   "cell_type": "code",
   "execution_count": 0,
   "metadata": {
    "application/vnd.databricks.v1+cell": {
     "cellMetadata": {
      "byteLimit": 2048000,
      "rowLimit": 10000
     },
     "inputWidgets": {},
     "nuid": "ea6a1c2e-2db6-459b-b608-b0ec8f9bd12a",
     "showTitle": false,
     "tableResultSettingsMap": {},
     "title": ""
    }
   },
   "outputs": [],
   "source": [
    "SELECT \n",
    "  json_value.order_id,\n",
    "  json_value.order_status,\n",
    "  json_value.payment_method,\n",
    "  json_value.total_amount,\n",
    "  json_value.transaction_timestamp,\n",
    "  json_value.customer_id,\n",
    "  array_distinct(json_value.items) AS items\n",
    "FROM gizmobox.silver.orders_json"
   ]
  },
  {
   "cell_type": "code",
   "execution_count": 0,
   "metadata": {
    "application/vnd.databricks.v1+cell": {
     "cellMetadata": {
      "byteLimit": 2048000,
      "rowLimit": 10000
     },
     "inputWidgets": {},
     "nuid": "29523d00-10bf-4c1f-b578-a95412ba4d7c",
     "showTitle": false,
     "tableResultSettingsMap": {},
     "title": ""
    }
   },
   "outputs": [],
   "source": [
    "CREATE OR REPLACE TEMP VIEW tv_orders_exploded AS\n",
    "SELECT \n",
    "  json_value.order_id,\n",
    "  json_value.order_status,\n",
    "  json_value.payment_method,\n",
    "  json_value.total_amount,\n",
    "  json_value.transaction_timestamp,\n",
    "  json_value.customer_id,\n",
    "  explode(array_distinct(json_value.items)) AS item\n",
    "FROM gizmobox.silver.orders_json"
   ]
  },
  {
   "cell_type": "code",
   "execution_count": 0,
   "metadata": {
    "application/vnd.databricks.v1+cell": {
     "cellMetadata": {
      "byteLimit": 2048000,
      "rowLimit": 10000
     },
     "inputWidgets": {},
     "nuid": "18f88813-d166-4019-b97e-628906dd21a7",
     "showTitle": false,
     "tableResultSettingsMap": {},
     "title": ""
    }
   },
   "outputs": [],
   "source": [
    "CREATE TABLE IF NOT EXISTS gizmobox.silver.orders AS\n",
    "SELECT \n",
    "  order_id, \n",
    "  order_status,\n",
    "  total_amount,\n",
    "  transaction_timestamp,\n",
    "  item.item_id,\n",
    "  item.name,\n",
    "  item.price,\n",
    "  item.quantity,\n",
    "  item.category,\n",
    "  item.details.brand,\n",
    "  item.details.color\n",
    "FROM tv_orders_exploded"
   ]
  },
  {
   "cell_type": "code",
   "execution_count": 0,
   "metadata": {
    "application/vnd.databricks.v1+cell": {
     "cellMetadata": {
      "byteLimit": 2048000,
      "rowLimit": 10000
     },
     "inputWidgets": {},
     "nuid": "a64e5a68-51f6-45f8-ba58-ad72eaa15e3a",
     "showTitle": false,
     "tableResultSettingsMap": {},
     "title": ""
    }
   },
   "outputs": [],
   "source": [
    "SELECT * FROM gizmobox.silver.orders"
   ]
  },
  {
   "cell_type": "code",
   "execution_count": 0,
   "metadata": {
    "application/vnd.databricks.v1+cell": {
     "cellMetadata": {
      "byteLimit": 2048000,
      "rowLimit": 10000
     },
     "inputWidgets": {},
     "nuid": "794dc89e-bc27-4adc-b6ca-5c86f5548d63",
     "showTitle": false,
     "tableResultSettingsMap": {},
     "title": ""
    }
   },
   "outputs": [],
   "source": [
    "SELECT * FROM gizmobox.silver.customers"
   ]
  },
  {
   "cell_type": "code",
   "execution_count": 0,
   "metadata": {
    "application/vnd.databricks.v1+cell": {
     "cellMetadata": {
      "byteLimit": 2048000,
      "rowLimit": 10000
     },
     "inputWidgets": {},
     "nuid": "067ea9f1-308c-4a07-a10a-8e003428ba02",
     "showTitle": false,
     "tableResultSettingsMap": {},
     "title": ""
    }
   },
   "outputs": [],
   "source": [
    "SELECT * FROM gizmobox.silver.addresses"
   ]
  },
  {
   "cell_type": "code",
   "execution_count": 0,
   "metadata": {
    "application/vnd.databricks.v1+cell": {
     "cellMetadata": {
      "byteLimit": 2048000,
      "rowLimit": 10000
     },
     "inputWidgets": {},
     "nuid": "f661a9c5-6b88-4d0d-b178-a4ca79694766",
     "showTitle": false,
     "tableResultSettingsMap": {},
     "title": ""
    }
   },
   "outputs": [],
   "source": [
    "CREATE TABLE IF NOT EXISTS gizmobox.gold.customer_address\n",
    "SELECT \n",
    "  c.customer_id,\n",
    "  c.customer_name,\n",
    "  c.email,\n",
    "  c.date_of_birth,\n",
    "  c.member_since,\n",
    "  c.telephone,\n",
    "  a.shipping_address_line_1,\n",
    "  a.shipping_city,\n",
    "  a.shipping_state,\n",
    "  a.shipping_postcode,\n",
    "  a.billing_address_line_1,\n",
    "  a.billing_city,\n",
    "  a.billing_state,\n",
    "  a.billing_postcode\n",
    "FROM gizmobox.silver.customers c\n",
    "JOIN gizmobox.silver.addresses a\n",
    "ON c.customer_id = a.customer_id"
   ]
  },
  {
   "cell_type": "code",
   "execution_count": 0,
   "metadata": {
    "application/vnd.databricks.v1+cell": {
     "cellMetadata": {
      "byteLimit": 2048000,
      "rowLimit": 10000
     },
     "inputWidgets": {},
     "nuid": "fa6619cd-e303-41a3-9a16-7b3839d1ab4b",
     "showTitle": false,
     "tableResultSettingsMap": {},
     "title": ""
    }
   },
   "outputs": [],
   "source": [
    "SELECT * FROM gizmobox.gold.customer_address"
   ]
  },
  {
   "cell_type": "code",
   "execution_count": 0,
   "metadata": {
    "application/vnd.databricks.v1+cell": {
     "cellMetadata": {},
     "inputWidgets": {},
     "nuid": "21fd48fa-0cca-4200-a36b-a8e4aee3f9ed",
     "showTitle": false,
     "tableResultSettingsMap": {},
     "title": ""
    }
   },
   "outputs": [],
   "source": []
  }
 ],
 "metadata": {
  "application/vnd.databricks.v1+notebook": {
   "computePreferences": null,
   "dashboards": [],
   "environmentMetadata": {
    "base_environment": "",
    "environment_version": "2"
   },
   "inputWidgetPreferences": null,
   "language": "sql",
   "notebookMetadata": {
    "pythonIndentUnit": 4
   },
   "notebookName": "Transforming Data",
   "widgets": {}
  },
  "language_info": {
   "name": "sql"
  }
 },
 "nbformat": 4,
 "nbformat_minor": 0
}
